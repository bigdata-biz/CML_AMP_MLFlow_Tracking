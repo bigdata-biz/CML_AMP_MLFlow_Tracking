{
 "cells": [
  {
   "cell_type": "markdown",
   "id": "1ddc562a-0b0f-4eae-bb25-0f054f86b4b4",
   "metadata": {},
   "source": [
    "# MLflow Experiment example"
   ]
  },
  {
   "cell_type": "code",
   "execution_count": 58,
   "id": "1c71236a-0897-4591-a020-fd84922da356",
   "metadata": {
    "tags": []
   },
   "outputs": [],
   "source": [
    "import mlflow\n",
    "import pandas as pd\n",
    "import numpy\n",
    "import subprocess\n",
    "\n",
    "n_features=20\n",
    "experiment_name='ml_experiment' # Experiemnt 이름"
   ]
  },
  {
   "cell_type": "markdown",
   "id": "1b2ffa90-f8d1-4989-a302-b8254189968b",
   "metadata": {},
   "source": [
    "## 1. Training & logging mlflow experiments"
   ]
  },
  {
   "cell_type": "code",
   "execution_count": 59,
   "id": "73d4291d-f5fa-455b-a1f4-9c851d9e149f",
   "metadata": {
    "tags": []
   },
   "outputs": [],
   "source": [
    "for knn in [3,5,7]:\n",
    "    subprocess.run(f\"python scripts/train_kneighbors.py --n_neighbors={knn} --experiment_name={experiment_name}\",  shell=True)"
   ]
  },
  {
   "cell_type": "code",
   "execution_count": 61,
   "id": "8ae97241-2bf3-4676-983d-126679b7917d",
   "metadata": {
    "tags": []
   },
   "outputs": [],
   "source": [
    "for n_est in [10, 20]:\n",
    "    for n_dep in [2,3]:\n",
    "        subprocess.run(f\"python scripts/train_random_forest.py --max_depth={n_dep} --n_estimators={n_est}  --experiment_name={experiment_name}\",  shell=True)"
   ]
  },
  {
   "cell_type": "markdown",
   "id": "a7c459e7-a7af-4aa9-86a8-4b706c0c69f0",
   "metadata": {},
   "source": [
    "## 2. Check experiment runs"
   ]
  },
  {
   "cell_type": "code",
   "execution_count": 62,
   "id": "a7e4cb21-d27c-4685-b28e-8d72a9700e6a",
   "metadata": {
    "tags": []
   },
   "outputs": [
    {
     "data": {
      "text/html": [
       "<div>\n",
       "<style scoped>\n",
       "    .dataframe tbody tr th:only-of-type {\n",
       "        vertical-align: middle;\n",
       "    }\n",
       "\n",
       "    .dataframe tbody tr th {\n",
       "        vertical-align: top;\n",
       "    }\n",
       "\n",
       "    .dataframe thead th {\n",
       "        text-align: right;\n",
       "    }\n",
       "</style>\n",
       "<table border=\"1\" class=\"dataframe\">\n",
       "  <thead>\n",
       "    <tr style=\"text-align: right;\">\n",
       "      <th></th>\n",
       "      <th>run_id</th>\n",
       "      <th>experiment_id</th>\n",
       "      <th>status</th>\n",
       "      <th>artifact_uri</th>\n",
       "      <th>start_time</th>\n",
       "      <th>end_time</th>\n",
       "      <th>metrics.train_accuracy</th>\n",
       "      <th>metrics.test_accuracy</th>\n",
       "      <th>params.n_estimators</th>\n",
       "      <th>params.max_depth</th>\n",
       "      <th>params.n_neighbors</th>\n",
       "      <th>tags.mlflow.source.type</th>\n",
       "      <th>tags.mlflow.user</th>\n",
       "      <th>tags.mlflow.source.name</th>\n",
       "      <th>tags.mlflow.source.git.commit</th>\n",
       "      <th>tags.mlflow.log-model.history</th>\n",
       "      <th>tags.mlflow.runName</th>\n",
       "    </tr>\n",
       "  </thead>\n",
       "  <tbody>\n",
       "    <tr>\n",
       "      <th>0</th>\n",
       "      <td>09e437b8977146e992d337adcb5d9391</td>\n",
       "      <td>831430648668691407</td>\n",
       "      <td>FINISHED</td>\n",
       "      <td>file:///home/cdsw/mlruns/831430648668691407/09...</td>\n",
       "      <td>2024-04-11 15:22:03.873000+00:00</td>\n",
       "      <td>2024-04-11 15:22:06.374000+00:00</td>\n",
       "      <td>0.952000</td>\n",
       "      <td>0.940</td>\n",
       "      <td>20</td>\n",
       "      <td>3</td>\n",
       "      <td>None</td>\n",
       "      <td>LOCAL</td>\n",
       "      <td>cdsw</td>\n",
       "      <td>scripts/train_random_forest.py</td>\n",
       "      <td>18f0c69aaa6bc3710c59252dac1e94f4c10a03f0</td>\n",
       "      <td>[{\"run_id\": \"09e437b8977146e992d337adcb5d9391\"...</td>\n",
       "      <td>victorious-gnat-344</td>\n",
       "    </tr>\n",
       "    <tr>\n",
       "      <th>1</th>\n",
       "      <td>8508a9ee0ed741279bf0dcdd0afe7b89</td>\n",
       "      <td>831430648668691407</td>\n",
       "      <td>FINISHED</td>\n",
       "      <td>file:///home/cdsw/mlruns/831430648668691407/85...</td>\n",
       "      <td>2024-04-11 15:21:59.759000+00:00</td>\n",
       "      <td>2024-04-11 15:22:02.031000+00:00</td>\n",
       "      <td>0.900000</td>\n",
       "      <td>0.884</td>\n",
       "      <td>20</td>\n",
       "      <td>2</td>\n",
       "      <td>None</td>\n",
       "      <td>LOCAL</td>\n",
       "      <td>cdsw</td>\n",
       "      <td>scripts/train_random_forest.py</td>\n",
       "      <td>18f0c69aaa6bc3710c59252dac1e94f4c10a03f0</td>\n",
       "      <td>[{\"run_id\": \"8508a9ee0ed741279bf0dcdd0afe7b89\"...</td>\n",
       "      <td>beautiful-fly-640</td>\n",
       "    </tr>\n",
       "    <tr>\n",
       "      <th>2</th>\n",
       "      <td>ed1f0e6760a24f7196e9c4990ee83376</td>\n",
       "      <td>831430648668691407</td>\n",
       "      <td>FINISHED</td>\n",
       "      <td>file:///home/cdsw/mlruns/831430648668691407/ed...</td>\n",
       "      <td>2024-04-11 15:21:55.512000+00:00</td>\n",
       "      <td>2024-04-11 15:21:57.747000+00:00</td>\n",
       "      <td>0.912000</td>\n",
       "      <td>0.860</td>\n",
       "      <td>10</td>\n",
       "      <td>3</td>\n",
       "      <td>None</td>\n",
       "      <td>LOCAL</td>\n",
       "      <td>cdsw</td>\n",
       "      <td>scripts/train_random_forest.py</td>\n",
       "      <td>18f0c69aaa6bc3710c59252dac1e94f4c10a03f0</td>\n",
       "      <td>[{\"run_id\": \"ed1f0e6760a24f7196e9c4990ee83376\"...</td>\n",
       "      <td>skittish-seal-237</td>\n",
       "    </tr>\n",
       "    <tr>\n",
       "      <th>3</th>\n",
       "      <td>59a7335534fc4d9f88d3a3483e4485dd</td>\n",
       "      <td>831430648668691407</td>\n",
       "      <td>FINISHED</td>\n",
       "      <td>file:///home/cdsw/mlruns/831430648668691407/59...</td>\n",
       "      <td>2024-04-11 15:21:51.332000+00:00</td>\n",
       "      <td>2024-04-11 15:21:53.600000+00:00</td>\n",
       "      <td>0.858667</td>\n",
       "      <td>0.864</td>\n",
       "      <td>10</td>\n",
       "      <td>2</td>\n",
       "      <td>None</td>\n",
       "      <td>LOCAL</td>\n",
       "      <td>cdsw</td>\n",
       "      <td>scripts/train_random_forest.py</td>\n",
       "      <td>18f0c69aaa6bc3710c59252dac1e94f4c10a03f0</td>\n",
       "      <td>[{\"run_id\": \"59a7335534fc4d9f88d3a3483e4485dd\"...</td>\n",
       "      <td>abrasive-dog-462</td>\n",
       "    </tr>\n",
       "    <tr>\n",
       "      <th>4</th>\n",
       "      <td>3e21de594f074ba5bffaae4c82e239f7</td>\n",
       "      <td>831430648668691407</td>\n",
       "      <td>FINISHED</td>\n",
       "      <td>file:///home/cdsw/mlruns/831430648668691407/3e...</td>\n",
       "      <td>2024-04-11 15:20:16.749000+00:00</td>\n",
       "      <td>2024-04-11 15:20:19.243000+00:00</td>\n",
       "      <td>0.929333</td>\n",
       "      <td>0.940</td>\n",
       "      <td>None</td>\n",
       "      <td>None</td>\n",
       "      <td>7</td>\n",
       "      <td>LOCAL</td>\n",
       "      <td>cdsw</td>\n",
       "      <td>scripts/train_kneighbors.py</td>\n",
       "      <td>18f0c69aaa6bc3710c59252dac1e94f4c10a03f0</td>\n",
       "      <td>[{\"run_id\": \"3e21de594f074ba5bffaae4c82e239f7\"...</td>\n",
       "      <td>fearless-shrew-323</td>\n",
       "    </tr>\n",
       "    <tr>\n",
       "      <th>5</th>\n",
       "      <td>9b6e1cd3e3f44607b8a3db38056f83ca</td>\n",
       "      <td>831430648668691407</td>\n",
       "      <td>FINISHED</td>\n",
       "      <td>file:///home/cdsw/mlruns/831430648668691407/9b...</td>\n",
       "      <td>2024-04-11 15:20:12.086000+00:00</td>\n",
       "      <td>2024-04-11 15:20:14.595000+00:00</td>\n",
       "      <td>0.933333</td>\n",
       "      <td>0.932</td>\n",
       "      <td>None</td>\n",
       "      <td>None</td>\n",
       "      <td>5</td>\n",
       "      <td>LOCAL</td>\n",
       "      <td>cdsw</td>\n",
       "      <td>scripts/train_kneighbors.py</td>\n",
       "      <td>18f0c69aaa6bc3710c59252dac1e94f4c10a03f0</td>\n",
       "      <td>[{\"run_id\": \"9b6e1cd3e3f44607b8a3db38056f83ca\"...</td>\n",
       "      <td>omniscient-ox-436</td>\n",
       "    </tr>\n",
       "    <tr>\n",
       "      <th>6</th>\n",
       "      <td>9a8c9d1c628248c99e90f4ccd6b98f0a</td>\n",
       "      <td>831430648668691407</td>\n",
       "      <td>FINISHED</td>\n",
       "      <td>file:///home/cdsw/mlruns/831430648668691407/9a...</td>\n",
       "      <td>2024-04-11 15:20:07.211000+00:00</td>\n",
       "      <td>2024-04-11 15:20:09.711000+00:00</td>\n",
       "      <td>0.942667</td>\n",
       "      <td>0.936</td>\n",
       "      <td>None</td>\n",
       "      <td>None</td>\n",
       "      <td>3</td>\n",
       "      <td>LOCAL</td>\n",
       "      <td>cdsw</td>\n",
       "      <td>scripts/train_kneighbors.py</td>\n",
       "      <td>18f0c69aaa6bc3710c59252dac1e94f4c10a03f0</td>\n",
       "      <td>[{\"run_id\": \"9a8c9d1c628248c99e90f4ccd6b98f0a\"...</td>\n",
       "      <td>smiling-elk-299</td>\n",
       "    </tr>\n",
       "    <tr>\n",
       "      <th>7</th>\n",
       "      <td>4fa9cb13bd254bda8e79d7938e554678</td>\n",
       "      <td>831430648668691407</td>\n",
       "      <td>FINISHED</td>\n",
       "      <td>file:///home/cdsw/mlruns/831430648668691407/4f...</td>\n",
       "      <td>2024-04-11 14:56:17.035000+00:00</td>\n",
       "      <td>2024-04-11 14:56:19.512000+00:00</td>\n",
       "      <td>0.942667</td>\n",
       "      <td>0.936</td>\n",
       "      <td>None</td>\n",
       "      <td>None</td>\n",
       "      <td>3</td>\n",
       "      <td>LOCAL</td>\n",
       "      <td>cdsw</td>\n",
       "      <td>scripts/train_kneighbors.py</td>\n",
       "      <td>18f0c69aaa6bc3710c59252dac1e94f4c10a03f0</td>\n",
       "      <td>[{\"run_id\": \"4fa9cb13bd254bda8e79d7938e554678\"...</td>\n",
       "      <td>valuable-goose-317</td>\n",
       "    </tr>\n",
       "    <tr>\n",
       "      <th>8</th>\n",
       "      <td>02a0083cebdf4a2ea8bca52f95b0d086</td>\n",
       "      <td>831430648668691407</td>\n",
       "      <td>FINISHED</td>\n",
       "      <td>file:///home/cdsw/mlruns/831430648668691407/02...</td>\n",
       "      <td>2024-04-11 14:29:31.029000+00:00</td>\n",
       "      <td>2024-04-11 14:29:33.434000+00:00</td>\n",
       "      <td>0.921333</td>\n",
       "      <td>0.888</td>\n",
       "      <td>20</td>\n",
       "      <td>3</td>\n",
       "      <td>None</td>\n",
       "      <td>LOCAL</td>\n",
       "      <td>cdsw</td>\n",
       "      <td>scripts/train_random_forest.py</td>\n",
       "      <td>18f0c69aaa6bc3710c59252dac1e94f4c10a03f0</td>\n",
       "      <td>[{\"run_id\": \"02a0083cebdf4a2ea8bca52f95b0d086\"...</td>\n",
       "      <td>respected-smelt-290</td>\n",
       "    </tr>\n",
       "  </tbody>\n",
       "</table>\n",
       "</div>"
      ],
      "text/plain": [
       "                             run_id       experiment_id    status  \\\n",
       "0  09e437b8977146e992d337adcb5d9391  831430648668691407  FINISHED   \n",
       "1  8508a9ee0ed741279bf0dcdd0afe7b89  831430648668691407  FINISHED   \n",
       "2  ed1f0e6760a24f7196e9c4990ee83376  831430648668691407  FINISHED   \n",
       "3  59a7335534fc4d9f88d3a3483e4485dd  831430648668691407  FINISHED   \n",
       "4  3e21de594f074ba5bffaae4c82e239f7  831430648668691407  FINISHED   \n",
       "5  9b6e1cd3e3f44607b8a3db38056f83ca  831430648668691407  FINISHED   \n",
       "6  9a8c9d1c628248c99e90f4ccd6b98f0a  831430648668691407  FINISHED   \n",
       "7  4fa9cb13bd254bda8e79d7938e554678  831430648668691407  FINISHED   \n",
       "8  02a0083cebdf4a2ea8bca52f95b0d086  831430648668691407  FINISHED   \n",
       "\n",
       "                                        artifact_uri  \\\n",
       "0  file:///home/cdsw/mlruns/831430648668691407/09...   \n",
       "1  file:///home/cdsw/mlruns/831430648668691407/85...   \n",
       "2  file:///home/cdsw/mlruns/831430648668691407/ed...   \n",
       "3  file:///home/cdsw/mlruns/831430648668691407/59...   \n",
       "4  file:///home/cdsw/mlruns/831430648668691407/3e...   \n",
       "5  file:///home/cdsw/mlruns/831430648668691407/9b...   \n",
       "6  file:///home/cdsw/mlruns/831430648668691407/9a...   \n",
       "7  file:///home/cdsw/mlruns/831430648668691407/4f...   \n",
       "8  file:///home/cdsw/mlruns/831430648668691407/02...   \n",
       "\n",
       "                        start_time                         end_time  \\\n",
       "0 2024-04-11 15:22:03.873000+00:00 2024-04-11 15:22:06.374000+00:00   \n",
       "1 2024-04-11 15:21:59.759000+00:00 2024-04-11 15:22:02.031000+00:00   \n",
       "2 2024-04-11 15:21:55.512000+00:00 2024-04-11 15:21:57.747000+00:00   \n",
       "3 2024-04-11 15:21:51.332000+00:00 2024-04-11 15:21:53.600000+00:00   \n",
       "4 2024-04-11 15:20:16.749000+00:00 2024-04-11 15:20:19.243000+00:00   \n",
       "5 2024-04-11 15:20:12.086000+00:00 2024-04-11 15:20:14.595000+00:00   \n",
       "6 2024-04-11 15:20:07.211000+00:00 2024-04-11 15:20:09.711000+00:00   \n",
       "7 2024-04-11 14:56:17.035000+00:00 2024-04-11 14:56:19.512000+00:00   \n",
       "8 2024-04-11 14:29:31.029000+00:00 2024-04-11 14:29:33.434000+00:00   \n",
       "\n",
       "   metrics.train_accuracy  metrics.test_accuracy params.n_estimators  \\\n",
       "0                0.952000                  0.940                  20   \n",
       "1                0.900000                  0.884                  20   \n",
       "2                0.912000                  0.860                  10   \n",
       "3                0.858667                  0.864                  10   \n",
       "4                0.929333                  0.940                None   \n",
       "5                0.933333                  0.932                None   \n",
       "6                0.942667                  0.936                None   \n",
       "7                0.942667                  0.936                None   \n",
       "8                0.921333                  0.888                  20   \n",
       "\n",
       "  params.max_depth params.n_neighbors tags.mlflow.source.type  \\\n",
       "0                3               None                   LOCAL   \n",
       "1                2               None                   LOCAL   \n",
       "2                3               None                   LOCAL   \n",
       "3                2               None                   LOCAL   \n",
       "4             None                  7                   LOCAL   \n",
       "5             None                  5                   LOCAL   \n",
       "6             None                  3                   LOCAL   \n",
       "7             None                  3                   LOCAL   \n",
       "8                3               None                   LOCAL   \n",
       "\n",
       "  tags.mlflow.user         tags.mlflow.source.name  \\\n",
       "0             cdsw  scripts/train_random_forest.py   \n",
       "1             cdsw  scripts/train_random_forest.py   \n",
       "2             cdsw  scripts/train_random_forest.py   \n",
       "3             cdsw  scripts/train_random_forest.py   \n",
       "4             cdsw     scripts/train_kneighbors.py   \n",
       "5             cdsw     scripts/train_kneighbors.py   \n",
       "6             cdsw     scripts/train_kneighbors.py   \n",
       "7             cdsw     scripts/train_kneighbors.py   \n",
       "8             cdsw  scripts/train_random_forest.py   \n",
       "\n",
       "              tags.mlflow.source.git.commit  \\\n",
       "0  18f0c69aaa6bc3710c59252dac1e94f4c10a03f0   \n",
       "1  18f0c69aaa6bc3710c59252dac1e94f4c10a03f0   \n",
       "2  18f0c69aaa6bc3710c59252dac1e94f4c10a03f0   \n",
       "3  18f0c69aaa6bc3710c59252dac1e94f4c10a03f0   \n",
       "4  18f0c69aaa6bc3710c59252dac1e94f4c10a03f0   \n",
       "5  18f0c69aaa6bc3710c59252dac1e94f4c10a03f0   \n",
       "6  18f0c69aaa6bc3710c59252dac1e94f4c10a03f0   \n",
       "7  18f0c69aaa6bc3710c59252dac1e94f4c10a03f0   \n",
       "8  18f0c69aaa6bc3710c59252dac1e94f4c10a03f0   \n",
       "\n",
       "                       tags.mlflow.log-model.history  tags.mlflow.runName  \n",
       "0  [{\"run_id\": \"09e437b8977146e992d337adcb5d9391\"...  victorious-gnat-344  \n",
       "1  [{\"run_id\": \"8508a9ee0ed741279bf0dcdd0afe7b89\"...    beautiful-fly-640  \n",
       "2  [{\"run_id\": \"ed1f0e6760a24f7196e9c4990ee83376\"...    skittish-seal-237  \n",
       "3  [{\"run_id\": \"59a7335534fc4d9f88d3a3483e4485dd\"...     abrasive-dog-462  \n",
       "4  [{\"run_id\": \"3e21de594f074ba5bffaae4c82e239f7\"...   fearless-shrew-323  \n",
       "5  [{\"run_id\": \"9b6e1cd3e3f44607b8a3db38056f83ca\"...    omniscient-ox-436  \n",
       "6  [{\"run_id\": \"9a8c9d1c628248c99e90f4ccd6b98f0a\"...      smiling-elk-299  \n",
       "7  [{\"run_id\": \"4fa9cb13bd254bda8e79d7938e554678\"...   valuable-goose-317  \n",
       "8  [{\"run_id\": \"02a0083cebdf4a2ea8bca52f95b0d086\"...  respected-smelt-290  "
      ]
     },
     "execution_count": 62,
     "metadata": {},
     "output_type": "execute_result"
    }
   ],
   "source": [
    "all_runs = mlflow.search_runs(search_all_experiments=True, experiment_names=[\"ml_experiment\"])\n",
    "all_runs"
   ]
  },
  {
   "cell_type": "markdown",
   "id": "a5102cf5-426b-4164-9e24-c531b33bd6a5",
   "metadata": {},
   "source": [
    "### - Best Model info"
   ]
  },
  {
   "cell_type": "code",
   "execution_count": 63,
   "id": "39289b3e-7c61-4006-9d95-199d5dd130df",
   "metadata": {
    "tags": []
   },
   "outputs": [
    {
     "data": {
      "text/plain": [
       "run_id                                            09e437b8977146e992d337adcb5d9391\n",
       "experiment_id                                                   831430648668691407\n",
       "status                                                                    FINISHED\n",
       "artifact_uri                     file:///home/cdsw/mlruns/831430648668691407/09...\n",
       "start_time                                        2024-04-11 15:22:03.873000+00:00\n",
       "end_time                                          2024-04-11 15:22:06.374000+00:00\n",
       "metrics.train_accuracy                                                       0.952\n",
       "metrics.test_accuracy                                                         0.94\n",
       "params.n_estimators                                                             20\n",
       "params.max_depth                                                                 3\n",
       "params.n_neighbors                                                            None\n",
       "tags.mlflow.source.type                                                      LOCAL\n",
       "tags.mlflow.user                                                              cdsw\n",
       "tags.mlflow.source.name                             scripts/train_random_forest.py\n",
       "tags.mlflow.source.git.commit             18f0c69aaa6bc3710c59252dac1e94f4c10a03f0\n",
       "tags.mlflow.log-model.history    [{\"run_id\": \"09e437b8977146e992d337adcb5d9391\"...\n",
       "tags.mlflow.runName                                            victorious-gnat-344\n",
       "Name: 0, dtype: object"
      ]
     },
     "execution_count": 63,
     "metadata": {},
     "output_type": "execute_result"
    }
   ],
   "source": [
    "best_model_info = all_runs.loc[all_runs['metrics.test_accuracy'].values.argmax(),:]\n",
    "best_model_info"
   ]
  },
  {
   "cell_type": "markdown",
   "id": "f00021d9-a4e5-419c-9826-7aa70a8b745a",
   "metadata": {},
   "source": [
    "### -Best Model uri"
   ]
  },
  {
   "cell_type": "code",
   "execution_count": 64,
   "id": "816cad97-dd23-4a16-9cc0-096c1bcb8307",
   "metadata": {
    "tags": []
   },
   "outputs": [
    {
     "data": {
      "text/plain": [
       "'file:///home/cdsw/mlruns/831430648668691407/09e437b8977146e992d337adcb5d9391/artifacts/models'"
      ]
     },
     "execution_count": 64,
     "metadata": {},
     "output_type": "execute_result"
    }
   ],
   "source": [
    "best_model_uri = best_model_info['artifact_uri'] + '/models'\n",
    "best_model_uri"
   ]
  },
  {
   "cell_type": "markdown",
   "id": "930d8e19-ffcd-4829-ab99-42745f5f1f2a",
   "metadata": {},
   "source": [
    "### -Save Best model uri"
   ]
  },
  {
   "cell_type": "code",
   "execution_count": 81,
   "id": "74e744c5-e437-4aa8-8f9f-7b8100be1639",
   "metadata": {
    "tags": []
   },
   "outputs": [],
   "source": [
    "!echo \"file:///home/cdsw/mlruns/831430648668691407/09e437b8977146e992d337adcb5d9391/artifacts/models\" > .best_model_uri"
   ]
  },
  {
   "cell_type": "code",
   "execution_count": 82,
   "id": "d2682977-0acd-485e-b4d5-26e202ef749c",
   "metadata": {
    "tags": []
   },
   "outputs": [
    {
     "name": "stdout",
     "output_type": "stream",
     "text": [
      "file:///home/cdsw/mlruns/831430648668691407/09e437b8977146e992d337adcb5d9391/artifacts/models\n"
     ]
    }
   ],
   "source": [
    "!cat .best_model_uri"
   ]
  },
  {
   "cell_type": "markdown",
   "id": "ede38b1c-68bf-47c6-87df-b060f3a1cdb7",
   "metadata": {},
   "source": [
    "## 3. Load Best model"
   ]
  },
  {
   "cell_type": "code",
   "execution_count": 52,
   "id": "915e2e3e-75b7-4703-b77f-1450e5208d7a",
   "metadata": {
    "tags": []
   },
   "outputs": [],
   "source": [
    "# Load model as a PyFuncModel.\n",
    "loaded_model = mlflow.pyfunc.load_model(best_model_uri)\n"
   ]
  },
  {
   "cell_type": "markdown",
   "id": "a5df0f12-ff38-4a9a-bf30-ecb648dbf115",
   "metadata": {},
   "source": [
    "## 4. Predict sample data"
   ]
  },
  {
   "cell_type": "code",
   "execution_count": 72,
   "id": "5950d1a0-e3c3-408d-a2b0-1401c4c95f51",
   "metadata": {
    "tags": []
   },
   "outputs": [],
   "source": [
    "X_sample = {\"feature_0\":1.600,\n",
    "            \"feature_1\":-0.522,\n",
    "            \"feature_2\":-1.774,\n",
    "            \"feature_3\":1.449,\n",
    "            \"feature_4\":-0.228,\n",
    "            \"feature_5\":-1.279,\n",
    "            \"feature_6\":0.482,\n",
    "            \"feature_7\":-0.508,\n",
    "            \"feature_8\":0.141,\n",
    "            \"feature_9\":0.468,\n",
    "            \"feature_10\":0.235,\n",
    "            \"feature_11\":-0.491,\n",
    "            \"feature_12\":-0.036,\n",
    "            \"feature_13\":-0.714,\n",
    "            \"feature_14\":-0.172,\n",
    "            \"feature_15\":0.508,\n",
    "            \"feature_16\":-0.390,\n",
    "            \"feature_17\":0.124,\n",
    "            \"feature_18\":-1.399,\n",
    "            \"feature_19\":-1.159}"
   ]
  },
  {
   "cell_type": "code",
   "execution_count": 102,
   "id": "10c1e80d-b996-484d-af19-6cbb1da316ff",
   "metadata": {
    "tags": []
   },
   "outputs": [
    {
     "data": {
      "text/html": [
       "<div>\n",
       "<style scoped>\n",
       "    .dataframe tbody tr th:only-of-type {\n",
       "        vertical-align: middle;\n",
       "    }\n",
       "\n",
       "    .dataframe tbody tr th {\n",
       "        vertical-align: top;\n",
       "    }\n",
       "\n",
       "    .dataframe thead th {\n",
       "        text-align: right;\n",
       "    }\n",
       "</style>\n",
       "<table border=\"1\" class=\"dataframe\">\n",
       "  <thead>\n",
       "    <tr style=\"text-align: right;\">\n",
       "      <th></th>\n",
       "      <th>feature_0</th>\n",
       "      <th>feature_1</th>\n",
       "      <th>feature_2</th>\n",
       "      <th>feature_3</th>\n",
       "      <th>feature_4</th>\n",
       "      <th>feature_5</th>\n",
       "      <th>feature_6</th>\n",
       "      <th>feature_7</th>\n",
       "      <th>feature_8</th>\n",
       "      <th>feature_9</th>\n",
       "      <th>feature_10</th>\n",
       "      <th>feature_11</th>\n",
       "      <th>feature_12</th>\n",
       "      <th>feature_13</th>\n",
       "      <th>feature_14</th>\n",
       "      <th>feature_15</th>\n",
       "      <th>feature_16</th>\n",
       "      <th>feature_17</th>\n",
       "      <th>feature_18</th>\n",
       "      <th>feature_19</th>\n",
       "    </tr>\n",
       "  </thead>\n",
       "  <tbody>\n",
       "    <tr>\n",
       "      <th>0</th>\n",
       "      <td>1.6</td>\n",
       "      <td>-0.522</td>\n",
       "      <td>-1.774</td>\n",
       "      <td>1.449</td>\n",
       "      <td>-0.228</td>\n",
       "      <td>-1.279</td>\n",
       "      <td>0.482</td>\n",
       "      <td>-0.508</td>\n",
       "      <td>0.141</td>\n",
       "      <td>0.468</td>\n",
       "      <td>0.235</td>\n",
       "      <td>-0.491</td>\n",
       "      <td>-0.036</td>\n",
       "      <td>-0.714</td>\n",
       "      <td>-0.172</td>\n",
       "      <td>0.508</td>\n",
       "      <td>-0.39</td>\n",
       "      <td>0.124</td>\n",
       "      <td>-1.399</td>\n",
       "      <td>-1.159</td>\n",
       "    </tr>\n",
       "  </tbody>\n",
       "</table>\n",
       "</div>"
      ],
      "text/plain": [
       "   feature_0  feature_1  feature_2  feature_3  feature_4  feature_5  \\\n",
       "0        1.6     -0.522     -1.774      1.449     -0.228     -1.279   \n",
       "\n",
       "   feature_6  feature_7  feature_8  feature_9  feature_10  feature_11  \\\n",
       "0      0.482     -0.508      0.141      0.468       0.235      -0.491   \n",
       "\n",
       "   feature_12  feature_13  feature_14  feature_15  feature_16  feature_17  \\\n",
       "0      -0.036      -0.714      -0.172       0.508       -0.39       0.124   \n",
       "\n",
       "   feature_18  feature_19  \n",
       "0      -1.399      -1.159  "
      ]
     },
     "execution_count": 102,
     "metadata": {},
     "output_type": "execute_result"
    }
   ],
   "source": [
    "# Predict on a Pandas DataFrame.\n",
    "\n",
    "X = pd.DataFrame([X_sample])\n",
    "X = X.loc[:, ['feature_'+str(i) for i in range(n_features)]]\n",
    "X"
   ]
  },
  {
   "cell_type": "code",
   "execution_count": 103,
   "id": "f9b4c945-9738-4585-8b4d-e495b5d196a4",
   "metadata": {
    "tags": []
   },
   "outputs": [
    {
     "data": {
      "text/plain": [
       "{'result': 0}"
      ]
     },
     "execution_count": 103,
     "metadata": {},
     "output_type": "execute_result"
    }
   ],
   "source": [
    "pred = loaded_model.predict(X)\n",
    "{'result':pred[0]}"
   ]
  }
 ],
 "metadata": {
  "kernelspec": {
   "display_name": "Python 3 (ipykernel)",
   "language": "python",
   "name": "python3"
  },
  "language_info": {
   "codemirror_mode": {
    "name": "ipython",
    "version": 3
   },
   "file_extension": ".py",
   "mimetype": "text/x-python",
   "name": "python",
   "nbconvert_exporter": "python",
   "pygments_lexer": "ipython3",
   "version": "3.9.16"
  }
 },
 "nbformat": 4,
 "nbformat_minor": 5
}
