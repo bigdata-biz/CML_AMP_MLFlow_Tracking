{
 "cells": [
  {
   "cell_type": "markdown",
   "id": "1ddc562a-0b0f-4eae-bb25-0f054f86b4b4",
   "metadata": {},
   "source": [
    "# MLflow Experiment example"
   ]
  },
  {
   "cell_type": "code",
   "execution_count": 1,
   "id": "1c71236a-0897-4591-a020-fd84922da356",
   "metadata": {
    "tags": []
   },
   "outputs": [],
   "source": [
    "import mlflow\n",
    "import pandas as pd\n",
    "import numpy\n",
    "import subprocess\n",
    "\n",
    "n_features=20\n",
    "experiment_name='ml_experiment' # Experiemnt 이름"
   ]
  },
  {
   "cell_type": "markdown",
   "id": "1b2ffa90-f8d1-4989-a302-b8254189968b",
   "metadata": {},
   "source": [
    "## 1. Training & logging mlflow experiments"
   ]
  },
  {
   "cell_type": "code",
   "execution_count": 2,
   "id": "73d4291d-f5fa-455b-a1f4-9c851d9e149f",
   "metadata": {
    "tags": []
   },
   "outputs": [],
   "source": [
    "for knn in [3,5,7]:\n",
    "    subprocess.run(f\"python scripts/train_kneighbors.py --n_neighbors={knn} --experiment_name={experiment_name}\",  shell=True)"
   ]
  },
  {
   "cell_type": "code",
   "execution_count": 3,
   "id": "8ae97241-2bf3-4676-983d-126679b7917d",
   "metadata": {
    "tags": []
   },
   "outputs": [],
   "source": [
    "for n_est in [10, 20]:\n",
    "    for n_dep in [2,3]:\n",
    "        subprocess.run(f\"python scripts/train_random_forest.py --max_depth={n_dep} --n_estimators={n_est}  --experiment_name={experiment_name}\",  shell=True)"
   ]
  },
  {
   "cell_type": "markdown",
   "id": "a7c459e7-a7af-4aa9-86a8-4b706c0c69f0",
   "metadata": {},
   "source": [
    "## 2. Check experiment runs"
   ]
  },
  {
   "cell_type": "code",
   "execution_count": 2,
   "id": "a7e4cb21-d27c-4685-b28e-8d72a9700e6a",
   "metadata": {
    "tags": []
   },
   "outputs": [
    {
     "data": {
      "text/html": [
       "<div>\n",
       "<style scoped>\n",
       "    .dataframe tbody tr th:only-of-type {\n",
       "        vertical-align: middle;\n",
       "    }\n",
       "\n",
       "    .dataframe tbody tr th {\n",
       "        vertical-align: top;\n",
       "    }\n",
       "\n",
       "    .dataframe thead th {\n",
       "        text-align: right;\n",
       "    }\n",
       "</style>\n",
       "<table border=\"1\" class=\"dataframe\">\n",
       "  <thead>\n",
       "    <tr style=\"text-align: right;\">\n",
       "      <th></th>\n",
       "      <th>run_id</th>\n",
       "      <th>experiment_id</th>\n",
       "      <th>status</th>\n",
       "      <th>artifact_uri</th>\n",
       "      <th>start_time</th>\n",
       "      <th>end_time</th>\n",
       "      <th>metrics.test_accuracy</th>\n",
       "      <th>metrics.train_accuracy</th>\n",
       "      <th>params.n_estimators</th>\n",
       "      <th>params.max_depth</th>\n",
       "      <th>params.n_neighbors</th>\n",
       "      <th>tags.mlflow.user</th>\n",
       "      <th>tags.mlflow.source.git.commit</th>\n",
       "      <th>tags.mlflow.log-model.history</th>\n",
       "      <th>tags.mlflow.runName</th>\n",
       "      <th>tags.mlflow.source.type</th>\n",
       "      <th>tags.mlflow.source.name</th>\n",
       "    </tr>\n",
       "  </thead>\n",
       "  <tbody>\n",
       "    <tr>\n",
       "      <th>0</th>\n",
       "      <td>3fae821cdc6443cc971ac2dd7976a319</td>\n",
       "      <td>140127219839329705</td>\n",
       "      <td>FINISHED</td>\n",
       "      <td>file:///home/cdsw/mlruns/140127219839329705/3f...</td>\n",
       "      <td>2024-04-11 16:44:14.738000+00:00</td>\n",
       "      <td>2024-04-11 16:44:17.053000+00:00</td>\n",
       "      <td>0.912</td>\n",
       "      <td>0.916000</td>\n",
       "      <td>20</td>\n",
       "      <td>3</td>\n",
       "      <td>None</td>\n",
       "      <td>cdsw</td>\n",
       "      <td>d1348a809fe059cc1a429468f20a37968692235d</td>\n",
       "      <td>[{\"run_id\": \"3fae821cdc6443cc971ac2dd7976a319\"...</td>\n",
       "      <td>sneaky-asp-62</td>\n",
       "      <td>LOCAL</td>\n",
       "      <td>scripts/train_random_forest.py</td>\n",
       "    </tr>\n",
       "    <tr>\n",
       "      <th>1</th>\n",
       "      <td>9e645c429da74593bb1f2d72a2feae33</td>\n",
       "      <td>140127219839329705</td>\n",
       "      <td>FINISHED</td>\n",
       "      <td>file:///home/cdsw/mlruns/140127219839329705/9e...</td>\n",
       "      <td>2024-04-11 16:44:10.227000+00:00</td>\n",
       "      <td>2024-04-11 16:44:12.265000+00:00</td>\n",
       "      <td>0.912</td>\n",
       "      <td>0.909333</td>\n",
       "      <td>20</td>\n",
       "      <td>2</td>\n",
       "      <td>None</td>\n",
       "      <td>cdsw</td>\n",
       "      <td>d1348a809fe059cc1a429468f20a37968692235d</td>\n",
       "      <td>[{\"run_id\": \"9e645c429da74593bb1f2d72a2feae33\"...</td>\n",
       "      <td>loud-rook-498</td>\n",
       "      <td>LOCAL</td>\n",
       "      <td>scripts/train_random_forest.py</td>\n",
       "    </tr>\n",
       "    <tr>\n",
       "      <th>2</th>\n",
       "      <td>25d8e498c83b45a081d5983675c0b2c9</td>\n",
       "      <td>140127219839329705</td>\n",
       "      <td>FINISHED</td>\n",
       "      <td>file:///home/cdsw/mlruns/140127219839329705/25...</td>\n",
       "      <td>2024-04-11 16:44:05.605000+00:00</td>\n",
       "      <td>2024-04-11 16:44:08.034000+00:00</td>\n",
       "      <td>0.916</td>\n",
       "      <td>0.921333</td>\n",
       "      <td>10</td>\n",
       "      <td>3</td>\n",
       "      <td>None</td>\n",
       "      <td>cdsw</td>\n",
       "      <td>d1348a809fe059cc1a429468f20a37968692235d</td>\n",
       "      <td>[{\"run_id\": \"25d8e498c83b45a081d5983675c0b2c9\"...</td>\n",
       "      <td>placid-ape-168</td>\n",
       "      <td>LOCAL</td>\n",
       "      <td>scripts/train_random_forest.py</td>\n",
       "    </tr>\n",
       "    <tr>\n",
       "      <th>3</th>\n",
       "      <td>339803c5e73e4f65bb90ef1b250b3c2c</td>\n",
       "      <td>140127219839329705</td>\n",
       "      <td>FINISHED</td>\n",
       "      <td>file:///home/cdsw/mlruns/140127219839329705/33...</td>\n",
       "      <td>2024-04-11 16:44:00.772000+00:00</td>\n",
       "      <td>2024-04-11 16:44:03.528000+00:00</td>\n",
       "      <td>0.880</td>\n",
       "      <td>0.884000</td>\n",
       "      <td>10</td>\n",
       "      <td>2</td>\n",
       "      <td>None</td>\n",
       "      <td>cdsw</td>\n",
       "      <td>d1348a809fe059cc1a429468f20a37968692235d</td>\n",
       "      <td>[{\"run_id\": \"339803c5e73e4f65bb90ef1b250b3c2c\"...</td>\n",
       "      <td>orderly-fawn-217</td>\n",
       "      <td>LOCAL</td>\n",
       "      <td>scripts/train_random_forest.py</td>\n",
       "    </tr>\n",
       "    <tr>\n",
       "      <th>4</th>\n",
       "      <td>f9bc73380a784e8fab6b408cc554056c</td>\n",
       "      <td>140127219839329705</td>\n",
       "      <td>FINISHED</td>\n",
       "      <td>file:///home/cdsw/mlruns/140127219839329705/f9...</td>\n",
       "      <td>2024-04-11 16:43:56.061000+00:00</td>\n",
       "      <td>2024-04-11 16:43:58.713000+00:00</td>\n",
       "      <td>0.940</td>\n",
       "      <td>0.929333</td>\n",
       "      <td>None</td>\n",
       "      <td>None</td>\n",
       "      <td>7</td>\n",
       "      <td>cdsw</td>\n",
       "      <td>d1348a809fe059cc1a429468f20a37968692235d</td>\n",
       "      <td>[{\"run_id\": \"f9bc73380a784e8fab6b408cc554056c\"...</td>\n",
       "      <td>caring-shrew-457</td>\n",
       "      <td>LOCAL</td>\n",
       "      <td>scripts/train_kneighbors.py</td>\n",
       "    </tr>\n",
       "    <tr>\n",
       "      <th>5</th>\n",
       "      <td>eb0da310c13841cd9dfa672e7d8d5f8f</td>\n",
       "      <td>140127219839329705</td>\n",
       "      <td>FINISHED</td>\n",
       "      <td>file:///home/cdsw/mlruns/140127219839329705/eb...</td>\n",
       "      <td>2024-04-11 16:43:51.210000+00:00</td>\n",
       "      <td>2024-04-11 16:43:53.790000+00:00</td>\n",
       "      <td>0.932</td>\n",
       "      <td>0.933333</td>\n",
       "      <td>None</td>\n",
       "      <td>None</td>\n",
       "      <td>5</td>\n",
       "      <td>cdsw</td>\n",
       "      <td>d1348a809fe059cc1a429468f20a37968692235d</td>\n",
       "      <td>[{\"run_id\": \"eb0da310c13841cd9dfa672e7d8d5f8f\"...</td>\n",
       "      <td>delicate-crab-547</td>\n",
       "      <td>LOCAL</td>\n",
       "      <td>scripts/train_kneighbors.py</td>\n",
       "    </tr>\n",
       "    <tr>\n",
       "      <th>6</th>\n",
       "      <td>a983068d22df41d1a1e4569968566549</td>\n",
       "      <td>140127219839329705</td>\n",
       "      <td>FINISHED</td>\n",
       "      <td>file:///home/cdsw/mlruns/140127219839329705/a9...</td>\n",
       "      <td>2024-04-11 16:43:46.509000+00:00</td>\n",
       "      <td>2024-04-11 16:43:48.982000+00:00</td>\n",
       "      <td>0.936</td>\n",
       "      <td>0.942667</td>\n",
       "      <td>None</td>\n",
       "      <td>None</td>\n",
       "      <td>3</td>\n",
       "      <td>cdsw</td>\n",
       "      <td>d1348a809fe059cc1a429468f20a37968692235d</td>\n",
       "      <td>[{\"run_id\": \"a983068d22df41d1a1e4569968566549\"...</td>\n",
       "      <td>vaunted-carp-723</td>\n",
       "      <td>LOCAL</td>\n",
       "      <td>scripts/train_kneighbors.py</td>\n",
       "    </tr>\n",
       "    <tr>\n",
       "      <th>7</th>\n",
       "      <td>f52d36e905a640d59012575afbdfaad9</td>\n",
       "      <td>140127219839329705</td>\n",
       "      <td>FINISHED</td>\n",
       "      <td>file:///home/cdsw/mlruns/140127219839329705/f5...</td>\n",
       "      <td>2024-04-11 16:40:31.691000+00:00</td>\n",
       "      <td>2024-04-11 16:40:34.354000+00:00</td>\n",
       "      <td>0.912</td>\n",
       "      <td>0.945333</td>\n",
       "      <td>20</td>\n",
       "      <td>3</td>\n",
       "      <td>None</td>\n",
       "      <td>cdsw</td>\n",
       "      <td>None</td>\n",
       "      <td>[{\"run_id\": \"f52d36e905a640d59012575afbdfaad9\"...</td>\n",
       "      <td>angry-sponge-699</td>\n",
       "      <td>LOCAL</td>\n",
       "      <td>/usr/local/bin/ipython3</td>\n",
       "    </tr>\n",
       "    <tr>\n",
       "      <th>8</th>\n",
       "      <td>142151acad634066a26718a249376473</td>\n",
       "      <td>140127219839329705</td>\n",
       "      <td>FINISHED</td>\n",
       "      <td>file:///home/cdsw/mlruns/140127219839329705/14...</td>\n",
       "      <td>2024-04-11 16:40:16.086000+00:00</td>\n",
       "      <td>2024-04-11 16:40:18.968000+00:00</td>\n",
       "      <td>0.932</td>\n",
       "      <td>0.933333</td>\n",
       "      <td>None</td>\n",
       "      <td>None</td>\n",
       "      <td>5</td>\n",
       "      <td>cdsw</td>\n",
       "      <td>None</td>\n",
       "      <td>[{\"run_id\": \"142151acad634066a26718a249376473\"...</td>\n",
       "      <td>resilient-grub-843</td>\n",
       "      <td>LOCAL</td>\n",
       "      <td>/usr/local/bin/ipython3</td>\n",
       "    </tr>\n",
       "  </tbody>\n",
       "</table>\n",
       "</div>"
      ],
      "text/plain": [
       "                             run_id       experiment_id    status  \\\n",
       "0  3fae821cdc6443cc971ac2dd7976a319  140127219839329705  FINISHED   \n",
       "1  9e645c429da74593bb1f2d72a2feae33  140127219839329705  FINISHED   \n",
       "2  25d8e498c83b45a081d5983675c0b2c9  140127219839329705  FINISHED   \n",
       "3  339803c5e73e4f65bb90ef1b250b3c2c  140127219839329705  FINISHED   \n",
       "4  f9bc73380a784e8fab6b408cc554056c  140127219839329705  FINISHED   \n",
       "5  eb0da310c13841cd9dfa672e7d8d5f8f  140127219839329705  FINISHED   \n",
       "6  a983068d22df41d1a1e4569968566549  140127219839329705  FINISHED   \n",
       "7  f52d36e905a640d59012575afbdfaad9  140127219839329705  FINISHED   \n",
       "8  142151acad634066a26718a249376473  140127219839329705  FINISHED   \n",
       "\n",
       "                                        artifact_uri  \\\n",
       "0  file:///home/cdsw/mlruns/140127219839329705/3f...   \n",
       "1  file:///home/cdsw/mlruns/140127219839329705/9e...   \n",
       "2  file:///home/cdsw/mlruns/140127219839329705/25...   \n",
       "3  file:///home/cdsw/mlruns/140127219839329705/33...   \n",
       "4  file:///home/cdsw/mlruns/140127219839329705/f9...   \n",
       "5  file:///home/cdsw/mlruns/140127219839329705/eb...   \n",
       "6  file:///home/cdsw/mlruns/140127219839329705/a9...   \n",
       "7  file:///home/cdsw/mlruns/140127219839329705/f5...   \n",
       "8  file:///home/cdsw/mlruns/140127219839329705/14...   \n",
       "\n",
       "                        start_time                         end_time  \\\n",
       "0 2024-04-11 16:44:14.738000+00:00 2024-04-11 16:44:17.053000+00:00   \n",
       "1 2024-04-11 16:44:10.227000+00:00 2024-04-11 16:44:12.265000+00:00   \n",
       "2 2024-04-11 16:44:05.605000+00:00 2024-04-11 16:44:08.034000+00:00   \n",
       "3 2024-04-11 16:44:00.772000+00:00 2024-04-11 16:44:03.528000+00:00   \n",
       "4 2024-04-11 16:43:56.061000+00:00 2024-04-11 16:43:58.713000+00:00   \n",
       "5 2024-04-11 16:43:51.210000+00:00 2024-04-11 16:43:53.790000+00:00   \n",
       "6 2024-04-11 16:43:46.509000+00:00 2024-04-11 16:43:48.982000+00:00   \n",
       "7 2024-04-11 16:40:31.691000+00:00 2024-04-11 16:40:34.354000+00:00   \n",
       "8 2024-04-11 16:40:16.086000+00:00 2024-04-11 16:40:18.968000+00:00   \n",
       "\n",
       "   metrics.test_accuracy  metrics.train_accuracy params.n_estimators  \\\n",
       "0                  0.912                0.916000                  20   \n",
       "1                  0.912                0.909333                  20   \n",
       "2                  0.916                0.921333                  10   \n",
       "3                  0.880                0.884000                  10   \n",
       "4                  0.940                0.929333                None   \n",
       "5                  0.932                0.933333                None   \n",
       "6                  0.936                0.942667                None   \n",
       "7                  0.912                0.945333                  20   \n",
       "8                  0.932                0.933333                None   \n",
       "\n",
       "  params.max_depth params.n_neighbors tags.mlflow.user  \\\n",
       "0                3               None             cdsw   \n",
       "1                2               None             cdsw   \n",
       "2                3               None             cdsw   \n",
       "3                2               None             cdsw   \n",
       "4             None                  7             cdsw   \n",
       "5             None                  5             cdsw   \n",
       "6             None                  3             cdsw   \n",
       "7                3               None             cdsw   \n",
       "8             None                  5             cdsw   \n",
       "\n",
       "              tags.mlflow.source.git.commit  \\\n",
       "0  d1348a809fe059cc1a429468f20a37968692235d   \n",
       "1  d1348a809fe059cc1a429468f20a37968692235d   \n",
       "2  d1348a809fe059cc1a429468f20a37968692235d   \n",
       "3  d1348a809fe059cc1a429468f20a37968692235d   \n",
       "4  d1348a809fe059cc1a429468f20a37968692235d   \n",
       "5  d1348a809fe059cc1a429468f20a37968692235d   \n",
       "6  d1348a809fe059cc1a429468f20a37968692235d   \n",
       "7                                      None   \n",
       "8                                      None   \n",
       "\n",
       "                       tags.mlflow.log-model.history tags.mlflow.runName  \\\n",
       "0  [{\"run_id\": \"3fae821cdc6443cc971ac2dd7976a319\"...       sneaky-asp-62   \n",
       "1  [{\"run_id\": \"9e645c429da74593bb1f2d72a2feae33\"...       loud-rook-498   \n",
       "2  [{\"run_id\": \"25d8e498c83b45a081d5983675c0b2c9\"...      placid-ape-168   \n",
       "3  [{\"run_id\": \"339803c5e73e4f65bb90ef1b250b3c2c\"...    orderly-fawn-217   \n",
       "4  [{\"run_id\": \"f9bc73380a784e8fab6b408cc554056c\"...    caring-shrew-457   \n",
       "5  [{\"run_id\": \"eb0da310c13841cd9dfa672e7d8d5f8f\"...   delicate-crab-547   \n",
       "6  [{\"run_id\": \"a983068d22df41d1a1e4569968566549\"...    vaunted-carp-723   \n",
       "7  [{\"run_id\": \"f52d36e905a640d59012575afbdfaad9\"...    angry-sponge-699   \n",
       "8  [{\"run_id\": \"142151acad634066a26718a249376473\"...  resilient-grub-843   \n",
       "\n",
       "  tags.mlflow.source.type         tags.mlflow.source.name  \n",
       "0                   LOCAL  scripts/train_random_forest.py  \n",
       "1                   LOCAL  scripts/train_random_forest.py  \n",
       "2                   LOCAL  scripts/train_random_forest.py  \n",
       "3                   LOCAL  scripts/train_random_forest.py  \n",
       "4                   LOCAL     scripts/train_kneighbors.py  \n",
       "5                   LOCAL     scripts/train_kneighbors.py  \n",
       "6                   LOCAL     scripts/train_kneighbors.py  \n",
       "7                   LOCAL         /usr/local/bin/ipython3  \n",
       "8                   LOCAL         /usr/local/bin/ipython3  "
      ]
     },
     "execution_count": 2,
     "metadata": {},
     "output_type": "execute_result"
    }
   ],
   "source": [
    "all_runs = mlflow.search_runs(search_all_experiments=True, experiment_names=[\"ml_experiment\"])\n",
    "all_runs"
   ]
  },
  {
   "cell_type": "markdown",
   "id": "a5102cf5-426b-4164-9e24-c531b33bd6a5",
   "metadata": {},
   "source": [
    "- Best Model info"
   ]
  },
  {
   "cell_type": "code",
   "execution_count": 3,
   "id": "39289b3e-7c61-4006-9d95-199d5dd130df",
   "metadata": {
    "tags": []
   },
   "outputs": [
    {
     "data": {
      "text/plain": [
       "run_id                                            f9bc73380a784e8fab6b408cc554056c\n",
       "experiment_id                                                   140127219839329705\n",
       "status                                                                    FINISHED\n",
       "artifact_uri                     file:///home/cdsw/mlruns/140127219839329705/f9...\n",
       "start_time                                        2024-04-11 16:43:56.061000+00:00\n",
       "end_time                                          2024-04-11 16:43:58.713000+00:00\n",
       "metrics.test_accuracy                                                         0.94\n",
       "metrics.train_accuracy                                                    0.929333\n",
       "params.n_estimators                                                           None\n",
       "params.max_depth                                                              None\n",
       "params.n_neighbors                                                               7\n",
       "tags.mlflow.user                                                              cdsw\n",
       "tags.mlflow.source.git.commit             d1348a809fe059cc1a429468f20a37968692235d\n",
       "tags.mlflow.log-model.history    [{\"run_id\": \"f9bc73380a784e8fab6b408cc554056c\"...\n",
       "tags.mlflow.runName                                               caring-shrew-457\n",
       "tags.mlflow.source.type                                                      LOCAL\n",
       "tags.mlflow.source.name                                scripts/train_kneighbors.py\n",
       "Name: 4, dtype: object"
      ]
     },
     "execution_count": 3,
     "metadata": {},
     "output_type": "execute_result"
    }
   ],
   "source": [
    "best_model_info = all_runs.loc[all_runs['metrics.test_accuracy'].values.argmax(),:]\n",
    "best_model_info"
   ]
  },
  {
   "cell_type": "markdown",
   "id": "f00021d9-a4e5-419c-9826-7aa70a8b745a",
   "metadata": {},
   "source": [
    "- Best model uri"
   ]
  },
  {
   "cell_type": "code",
   "execution_count": 4,
   "id": "816cad97-dd23-4a16-9cc0-096c1bcb8307",
   "metadata": {
    "tags": []
   },
   "outputs": [
    {
     "data": {
      "text/plain": [
       "'file:///home/cdsw/mlruns/140127219839329705/f9bc73380a784e8fab6b408cc554056c/artifacts/models'"
      ]
     },
     "execution_count": 4,
     "metadata": {},
     "output_type": "execute_result"
    }
   ],
   "source": [
    "best_model_uri = best_model_info['artifact_uri'] + '/models'\n",
    "best_model_uri"
   ]
  },
  {
   "cell_type": "markdown",
   "id": "930d8e19-ffcd-4829-ab99-42745f5f1f2a",
   "metadata": {},
   "source": [
    "- Save best model uri"
   ]
  },
  {
   "cell_type": "code",
   "execution_count": 6,
   "id": "74e744c5-e437-4aa8-8f9f-7b8100be1639",
   "metadata": {
    "tags": []
   },
   "outputs": [
    {
     "name": "stdout",
     "output_type": "stream",
     "text": [
      "file:///home/cdsw/mlruns/140127219839329705/f9bc73380a784e8fab6b408cc554056c/artifacts/models\n"
     ]
    },
    {
     "data": {
      "text/plain": [
       "CompletedProcess(args='cat .best_model_uri', returncode=0)"
      ]
     },
     "execution_count": 6,
     "metadata": {},
     "output_type": "execute_result"
    }
   ],
   "source": [
    "subprocess.run(f\"echo \\\"{best_model_uri}\\\" > .best_model_uri\", shell=True)\n",
    "subprocess.run(\"cat .best_model_uri\", shell=True)"
   ]
  },
  {
   "cell_type": "markdown",
   "id": "ede38b1c-68bf-47c6-87df-b060f3a1cdb7",
   "metadata": {},
   "source": [
    "## 3. Load Best model"
   ]
  },
  {
   "cell_type": "code",
   "execution_count": 7,
   "id": "915e2e3e-75b7-4703-b77f-1450e5208d7a",
   "metadata": {
    "tags": []
   },
   "outputs": [],
   "source": [
    "# Load model as a PyFuncModel.\n",
    "loaded_model = mlflow.pyfunc.load_model(best_model_uri)\n"
   ]
  },
  {
   "cell_type": "markdown",
   "id": "a5df0f12-ff38-4a9a-bf30-ecb648dbf115",
   "metadata": {},
   "source": [
    "## 4. Predict sample data"
   ]
  },
  {
   "cell_type": "code",
   "execution_count": 10,
   "id": "5950d1a0-e3c3-408d-a2b0-1401c4c95f51",
   "metadata": {
    "tags": []
   },
   "outputs": [],
   "source": [
    "X_sample = {\"feature_0\":1.600,\n",
    "            \"feature_1\":-0.522,\n",
    "            \"feature_2\":-1.774,\n",
    "            \"feature_3\":1.449,\n",
    "            \"feature_4\":-0.228,\n",
    "            \"feature_5\":-1.279,\n",
    "            \"feature_6\":0.482,\n",
    "            \"feature_7\":-0.508,\n",
    "            \"feature_8\":0.141,\n",
    "            \"feature_9\":0.468,\n",
    "            \"feature_10\":0.235,\n",
    "            \"feature_11\":-0.491,\n",
    "            \"feature_12\":-0.036,\n",
    "            \"feature_13\":-0.714,\n",
    "            \"feature_14\":-0.172,\n",
    "            \"feature_15\":0.508,\n",
    "            \"feature_16\":-0.390,\n",
    "            \"feature_17\":0.124,\n",
    "            \"feature_18\":-1.399,\n",
    "            \"feature_19\":-1.159}"
   ]
  },
  {
   "cell_type": "code",
   "execution_count": 11,
   "id": "10c1e80d-b996-484d-af19-6cbb1da316ff",
   "metadata": {
    "tags": []
   },
   "outputs": [
    {
     "data": {
      "text/html": [
       "<div>\n",
       "<style scoped>\n",
       "    .dataframe tbody tr th:only-of-type {\n",
       "        vertical-align: middle;\n",
       "    }\n",
       "\n",
       "    .dataframe tbody tr th {\n",
       "        vertical-align: top;\n",
       "    }\n",
       "\n",
       "    .dataframe thead th {\n",
       "        text-align: right;\n",
       "    }\n",
       "</style>\n",
       "<table border=\"1\" class=\"dataframe\">\n",
       "  <thead>\n",
       "    <tr style=\"text-align: right;\">\n",
       "      <th></th>\n",
       "      <th>feature_0</th>\n",
       "      <th>feature_1</th>\n",
       "      <th>feature_2</th>\n",
       "      <th>feature_3</th>\n",
       "      <th>feature_4</th>\n",
       "      <th>feature_5</th>\n",
       "      <th>feature_6</th>\n",
       "      <th>feature_7</th>\n",
       "      <th>feature_8</th>\n",
       "      <th>feature_9</th>\n",
       "      <th>feature_10</th>\n",
       "      <th>feature_11</th>\n",
       "      <th>feature_12</th>\n",
       "      <th>feature_13</th>\n",
       "      <th>feature_14</th>\n",
       "      <th>feature_15</th>\n",
       "      <th>feature_16</th>\n",
       "      <th>feature_17</th>\n",
       "      <th>feature_18</th>\n",
       "      <th>feature_19</th>\n",
       "    </tr>\n",
       "  </thead>\n",
       "  <tbody>\n",
       "    <tr>\n",
       "      <th>0</th>\n",
       "      <td>1.6</td>\n",
       "      <td>-0.522</td>\n",
       "      <td>-1.774</td>\n",
       "      <td>1.449</td>\n",
       "      <td>-0.228</td>\n",
       "      <td>-1.279</td>\n",
       "      <td>0.482</td>\n",
       "      <td>-0.508</td>\n",
       "      <td>0.141</td>\n",
       "      <td>0.468</td>\n",
       "      <td>0.235</td>\n",
       "      <td>-0.491</td>\n",
       "      <td>-0.036</td>\n",
       "      <td>-0.714</td>\n",
       "      <td>-0.172</td>\n",
       "      <td>0.508</td>\n",
       "      <td>-0.39</td>\n",
       "      <td>0.124</td>\n",
       "      <td>-1.399</td>\n",
       "      <td>-1.159</td>\n",
       "    </tr>\n",
       "  </tbody>\n",
       "</table>\n",
       "</div>"
      ],
      "text/plain": [
       "   feature_0  feature_1  feature_2  feature_3  feature_4  feature_5  \\\n",
       "0        1.6     -0.522     -1.774      1.449     -0.228     -1.279   \n",
       "\n",
       "   feature_6  feature_7  feature_8  feature_9  feature_10  feature_11  \\\n",
       "0      0.482     -0.508      0.141      0.468       0.235      -0.491   \n",
       "\n",
       "   feature_12  feature_13  feature_14  feature_15  feature_16  feature_17  \\\n",
       "0      -0.036      -0.714      -0.172       0.508       -0.39       0.124   \n",
       "\n",
       "   feature_18  feature_19  \n",
       "0      -1.399      -1.159  "
      ]
     },
     "execution_count": 11,
     "metadata": {},
     "output_type": "execute_result"
    }
   ],
   "source": [
    "# Predict on a Pandas DataFrame.\n",
    "\n",
    "X = pd.DataFrame([X_sample])\n",
    "X = X.loc[:, ['feature_'+str(i) for i in range(n_features)]]\n",
    "X"
   ]
  },
  {
   "cell_type": "code",
   "execution_count": 12,
   "id": "f9b4c945-9738-4585-8b4d-e495b5d196a4",
   "metadata": {
    "tags": []
   },
   "outputs": [
    {
     "data": {
      "text/plain": [
       "{'result': 0}"
      ]
     },
     "execution_count": 12,
     "metadata": {},
     "output_type": "execute_result"
    }
   ],
   "source": [
    "pred = loaded_model.predict(X)\n",
    "{'result':pred[0]}"
   ]
  }
 ],
 "metadata": {
  "kernelspec": {
   "display_name": "Python 3 (ipykernel)",
   "language": "python",
   "name": "python3"
  },
  "language_info": {
   "codemirror_mode": {
    "name": "ipython",
    "version": 3
   },
   "file_extension": ".py",
   "mimetype": "text/x-python",
   "name": "python",
   "nbconvert_exporter": "python",
   "pygments_lexer": "ipython3",
   "version": "3.9.16"
  }
 },
 "nbformat": 4,
 "nbformat_minor": 5
}
